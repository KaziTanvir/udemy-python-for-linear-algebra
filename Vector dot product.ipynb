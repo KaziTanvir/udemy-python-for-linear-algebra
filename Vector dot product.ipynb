{
 "cells": [
  {
   "cell_type": "markdown",
   "id": "662f61b8",
   "metadata": {},
   "source": [
    "## Dot product of vectors"
   ]
  },
  {
   "cell_type": "code",
   "execution_count": 1,
   "id": "95f6bee6",
   "metadata": {},
   "outputs": [],
   "source": [
    "#importing Modules\n",
    "import numpy as np\n",
    "import matplotlib.pyplot as plt"
   ]
  },
  {
   "cell_type": "code",
   "execution_count": 5,
   "id": "518d9421",
   "metadata": {
    "scrolled": true
   },
   "outputs": [
    {
     "data": {
      "text/plain": [
       "98"
      ]
     },
     "execution_count": 5,
     "metadata": {},
     "output_type": "execute_result"
    }
   ],
   "source": [
    "v1=np.array([1,4,5,6])\n",
    "v2=np.array([1,2,7,9])\n",
    "\n",
    "np.dot(v1,v2)"
   ]
  },
  {
   "cell_type": "code",
   "execution_count": 6,
   "id": "f42b0085",
   "metadata": {
    "scrolled": true
   },
   "outputs": [
    {
     "data": {
      "text/plain": [
       "-23"
      ]
     },
     "execution_count": 6,
     "metadata": {},
     "output_type": "execute_result"
    }
   ],
   "source": [
    "v3=np.array([1,-9,6,-3])\n",
    "\n",
    "np.dot(v1,v3)"
   ]
  },
  {
   "cell_type": "markdown",
   "id": "b046ae1d",
   "metadata": {},
   "source": [
    "## Othogonal\n",
    "### V5 is said to be orthogonal to V3 if , the vector product of v3 and v5 are zero"
   ]
  },
  {
   "cell_type": "code",
   "execution_count": 7,
   "id": "60b4dc15",
   "metadata": {},
   "outputs": [
    {
     "data": {
      "text/plain": [
       "0"
      ]
     },
     "execution_count": 7,
     "metadata": {},
     "output_type": "execute_result"
    }
   ],
   "source": [
    "v4= np.array([-4,3,1])\n",
    "v5= np.array([2,3,-1])\n",
    "\n",
    "np.dot(v4,v5)"
   ]
  },
  {
   "cell_type": "code",
   "execution_count": 13,
   "id": "a1bc6a35",
   "metadata": {},
   "outputs": [
    {
     "data": {
      "image/png": "[encoded data removed]",
      "text/plain": [
       "<Figure size 432x288 with 1 Axes>"
      ]
     },
     "metadata": {
      "needs_background": "light"
     },
     "output_type": "display_data"
    }
   ],
   "source": [
    "plt.plot([0,v4[0]],[0,v4[1]], 'bs-' , label = 'V4')\n",
    "plt.plot([0,v5[0]],[0,v5[1]], 'ro-' , label = 'V5')\n",
    "\n",
    "plt.axis('square')\n",
    "plt.xlim([-4,4])\n",
    "plt.ylim([-4,4])\n",
    "plt.grid()\n",
    "plt.legend()\n",
    "plt.show()"
   ]
  },
  {
   "cell_type": "code",
   "execution_count": null,
   "id": "f12ed733",
   "metadata": {},
   "outputs": [],
   "source": []
  }
 ],
 "metadata": {
  "kernelspec": {
   "display_name": "Python 3 (ipykernel)",
   "language": "python",
   "name": "python3"
  },
  "language_info": {
   "codemirror_mode": {
    "name": "ipython",
    "version": 3
   },
   "file_extension": ".py",
   "mimetype": "text/x-python",
   "name": "python",
   "nbconvert_exporter": "python",
   "pygments_lexer": "ipython3",
   "version": "3.9.7"
  }
 },
 "nbformat": 4,
 "nbformat_minor": 5
}
