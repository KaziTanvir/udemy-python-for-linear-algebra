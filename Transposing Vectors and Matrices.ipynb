{
 "cells": [
  {
   "cell_type": "markdown",
   "id": "56f759c7",
   "metadata": {},
   "source": [
    "# Transposing Vectors and Matrices"
   ]
  },
  {
   "cell_type": "code",
   "execution_count": 1,
   "id": "b28d0322",
   "metadata": {},
   "outputs": [],
   "source": [
    "#importing modules\n",
    "import numpy as np"
   ]
  },
  {
   "cell_type": "code",
   "execution_count": 3,
   "id": "c2733655",
   "metadata": {},
   "outputs": [
    {
     "name": "stdout",
     "output_type": "stream",
     "text": [
      "[[ 2  3 -1]]\n",
      "[[ 2]\n",
      " [ 3]\n",
      " [-1]]\n"
     ]
    }
   ],
   "source": [
    "v1 = np.array([2,3,-1], ndmin=2)\n",
    "\n",
    "print(v1)\n",
    "print(v1.T)"
   ]
  },
  {
   "cell_type": "code",
   "execution_count": 15,
   "id": "b261dafb",
   "metadata": {},
   "outputs": [
    {
     "name": "stdout",
     "output_type": "stream",
     "text": [
      "[[  4.  -1.   5.]\n",
      " [ -5.   1.   0.]\n",
      " [  6.  -0. -10.]]\n",
      "[[  4.  -5.   6.]\n",
      " [ -1.   1.  -0.]\n",
      " [  5.   0. -10.]]\n"
     ]
    }
   ],
   "source": [
    "M = np.round(7*np.random.randn(3,3))\n",
    "\n",
    "print(M)\n",
    "print(M.T)"
   ]
  },
  {
   "cell_type": "markdown",
   "id": "2201fe3d",
   "metadata": {},
   "source": [
    "Transposing a matrix twice means that you will get the initial matrix"
   ]
  },
  {
   "cell_type": "code",
   "execution_count": 17,
   "id": "fe28e296",
   "metadata": {},
   "outputs": [
    {
     "name": "stdout",
     "output_type": "stream",
     "text": [
      "[[ 3. 14. 19.]\n",
      " [-1.  9. -2.]\n",
      " [ 6. -8.  6.]]\n",
      " \n",
      "[[ 3. -1.  6.]\n",
      " [14.  9. -8.]\n",
      " [19. -2.  6.]]\n",
      " \n",
      "[[ 3. 14. 19.]\n",
      " [-1.  9. -2.]\n",
      " [ 6. -8.  6.]]\n"
     ]
    }
   ],
   "source": [
    "N = np.round(7*np.random.randn(3,3))\n",
    "\n",
    "NT = N.T\n",
    "\n",
    "NTT = NT.T\n",
    "\n",
    "print(N)\n",
    "print(\" \")\n",
    "print(NT)\n",
    "print(\" \")\n",
    "print(NTT)\n"
   ]
  },
  {
   "cell_type": "code",
   "execution_count": null,
   "id": "51c4c181",
   "metadata": {},
   "outputs": [],
   "source": []
  }
 ],
 "metadata": {
  "kernelspec": {
   "display_name": "Python 3 (ipykernel)",
   "language": "python",
   "name": "python3"
  },
  "language_info": {
   "codemirror_mode": {
    "name": "ipython",
    "version": 3
   },
   "file_extension": ".py",
   "mimetype": "text/x-python",
   "name": "python",
   "nbconvert_exporter": "python",
   "pygments_lexer": "ipython3",
   "version": "3.9.7"
  }
 },
 "nbformat": 4,
 "nbformat_minor": 5
}
