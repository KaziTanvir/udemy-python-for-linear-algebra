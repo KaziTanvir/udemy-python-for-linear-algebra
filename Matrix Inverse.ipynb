{
 "cells": [
  {
   "cell_type": "markdown",
   "id": "7747826a",
   "metadata": {},
   "source": [
    "# Matrix Inverse"
   ]
  },
  {
   "cell_type": "code",
   "execution_count": 6,
   "id": "1ae037f5",
   "metadata": {},
   "outputs": [],
   "source": [
    "import numpy as np\n",
    "import matplotlib.pyplot as plt"
   ]
  },
  {
   "cell_type": "code",
   "execution_count": 3,
   "id": "871eb1e9",
   "metadata": {},
   "outputs": [
    {
     "name": "stdout",
     "output_type": "stream",
     "text": [
      "[[8. 7. 5.]\n",
      " [8. 4. 9.]\n",
      " [3. 3. 3.]]\n",
      "\n",
      "[[ 0.38461538  0.15384615 -1.1025641 ]\n",
      " [-0.07692308 -0.23076923  0.82051282]\n",
      " [-0.30769231  0.07692308  0.61538462]]\n",
      "\n",
      "[[ 1.00000000e+00  5.55111512e-17  4.44089210e-16]\n",
      " [-2.22044605e-16  1.00000000e+00  4.44089210e-16]\n",
      " [ 0.00000000e+00 -5.55111512e-17  1.00000000e+00]]\n"
     ]
    }
   ],
   "source": [
    "M = np.round(9*np.random.rand(3,3))\n",
    "\n",
    "Minv = np.linalg.inv(M)\n",
    "\n",
    "print(M)\n",
    "print(\"\")\n",
    "print(Minv)\n",
    "print(\"\")\n",
    "print(M@Minv)"
   ]
  },
  {
   "cell_type": "code",
   "execution_count": 9,
   "id": "43c108f7",
   "metadata": {},
   "outputs": [
    {
     "data": {
      "image/png": "[encoded data removed]",
      "text/plain": [
       "<Figure size 432x360 with 3 Axes>"
      ]
     },
     "metadata": {
      "needs_background": "light"
     },
     "output_type": "display_data"
    }
   ],
   "source": [
    "fig,ax= plt.subplots(1,3,figsize=(6,5))\n",
    "ax[0].imshow(M)\n",
    "ax[0].set_title(\"M\")\n",
    "\n",
    "ax[1].imshow(Minv)\n",
    "ax[1].set_title(\"M$^{-1}$\")\n",
    "\n",
    "ax[2].imshow(M@Minv)\n",
    "ax[2].set_title(\"M x M$^{-1}$\")\n",
    "\n",
    "plt.show()"
   ]
  },
  {
   "cell_type": "code",
   "execution_count": 10,
   "id": "f79f5623",
   "metadata": {},
   "outputs": [
    {
     "name": "stdout",
     "output_type": "stream",
     "text": [
      "[[5 0 0]\n",
      " [0 6 0]\n",
      " [0 0 9]]\n"
     ]
    }
   ],
   "source": [
    "D = np.diag([5,6,9])\n",
    "print(D)"
   ]
  },
  {
   "cell_type": "code",
   "execution_count": 11,
   "id": "2bfb73f4",
   "metadata": {},
   "outputs": [
    {
     "name": "stdout",
     "output_type": "stream",
     "text": [
      "[[0.2        0.         0.        ]\n",
      " [0.         0.16666667 0.        ]\n",
      " [0.         0.         0.11111111]]\n",
      "[[1. 0. 0.]\n",
      " [0. 1. 0.]\n",
      " [0. 0. 1.]]\n"
     ]
    }
   ],
   "source": [
    "Dinv= np.linalg.inv(D)\n",
    "\n",
    "print(Dinv)\n",
    "\n",
    "print(D@Dinv)"
   ]
  },
  {
   "cell_type": "code",
   "execution_count": 14,
   "id": "b00a8667",
   "metadata": {},
   "outputs": [
    {
     "data": {
      "image/png": "[encoded data removed]",
      "text/plain": [
       "<Figure size 432x360 with 3 Axes>"
      ]
     },
     "metadata": {
      "needs_background": "light"
     },
     "output_type": "display_data"
    }
   ],
   "source": [
    "fig,ax= plt.subplots(1,3,figsize=(6,5))\n",
    "ax[0].imshow(D)\n",
    "ax[0].set_title(\"D\")\n",
    "\n",
    "ax[1].imshow(Dinv)\n",
    "ax[1].set_title(\"D$^{-1}$\")\n",
    "\n",
    "ax[2].imshow(D@Dinv)\n",
    "ax[2].set_title(\"D  D$^{-1}$\")\n",
    "\n",
    "plt.show()"
   ]
  },
  {
   "cell_type": "code",
   "execution_count": null,
   "id": "0d8b45a4",
   "metadata": {},
   "outputs": [],
   "source": []
  }
 ],
 "metadata": {
  "kernelspec": {
   "display_name": "Python 3 (ipykernel)",
   "language": "python",
   "name": "python3"
  },
  "language_info": {
   "codemirror_mode": {
    "name": "ipython",
    "version": 3
   },
   "file_extension": ".py",
   "mimetype": "text/x-python",
   "name": "python",
   "nbconvert_exporter": "python",
   "pygments_lexer": "ipython3",
   "version": "3.9.7"
  }
 },
 "nbformat": 4,
 "nbformat_minor": 5
}
