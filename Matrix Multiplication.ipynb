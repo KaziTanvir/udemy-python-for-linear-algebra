{
 "cells": [
  {
   "cell_type": "markdown",
   "id": "7a94b3df",
   "metadata": {},
   "source": [
    "# Matrix Multiplication"
   ]
  },
  {
   "cell_type": "markdown",
   "id": "b8ef80d3",
   "metadata": {},
   "source": [
    "1. Two matirces can be multiplies if and only if they are M x N and  N x K. That means that if we have a 2 x 3 matrix and a 3 x 4 matrix we can multiply"
   ]
  },
  {
   "cell_type": "code",
   "execution_count": 1,
   "id": "08cff395",
   "metadata": {},
   "outputs": [],
   "source": [
    "# importing module\n",
    "import numpy as np"
   ]
  },
  {
   "cell_type": "code",
   "execution_count": 4,
   "id": "d4536b48",
   "metadata": {},
   "outputs": [
    {
     "name": "stdout",
     "output_type": "stream",
     "text": [
      "[[  6. -12.  30.  49.]\n",
      " [ 40. -19.  68.  14.]]\n",
      "[[  6. -12.  30.  49.]\n",
      " [ 40. -19.  68.  14.]]\n"
     ]
    }
   ],
   "source": [
    "M1 = np.round(5*np.random.randn(2,3))\n",
    "M2 = np.round(3*np.random.randn(3,4))\n",
    "M3 = np.round(4*np.random.randn(4,6))\n",
    "\n",
    "print(np.matmul(M1,M2))\n",
    "\n",
    "print(M1@M2)"
   ]
  },
  {
   "cell_type": "code",
   "execution_count": null,
   "id": "82040d09",
   "metadata": {},
   "outputs": [],
   "source": []
  }
 ],
 "metadata": {
  "kernelspec": {
   "display_name": "Python 3 (ipykernel)",
   "language": "python",
   "name": "python3"
  },
  "language_info": {
   "codemirror_mode": {
    "name": "ipython",
    "version": 3
   },
   "file_extension": ".py",
   "mimetype": "text/x-python",
   "name": "python",
   "nbconvert_exporter": "python",
   "pygments_lexer": "ipython3",
   "version": "3.9.7"
  }
 },
 "nbformat": 4,
 "nbformat_minor": 5
}
